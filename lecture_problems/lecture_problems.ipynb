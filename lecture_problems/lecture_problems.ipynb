{
 "cells": [
  {
   "cell_type": "code",
   "execution_count": null,
   "id": "cb3e3dab",
   "metadata": {},
   "outputs": [],
   "source": [
    "from ortools.linear_solver import pywraplp"
   ]
  },
  {
   "cell_type": "markdown",
   "id": "88f0e571",
   "metadata": {},
   "source": [
    "### Lecture example: LP\n",
    "\n",
    "A simple two decision problem for factory output. "
   ]
  },
  {
   "cell_type": "code",
   "execution_count": null,
   "id": "7e7b11ee",
   "metadata": {},
   "outputs": [],
   "source": [
    "solver = pywraplp.Solver(\n",
    "    name=\"factory-lp\", problem_type=pywraplp.Solver.CBC_MIXED_INTEGER_PROGRAMMING)\n",
    "inf = solver.infinity()"
   ]
  },
  {
   "cell_type": "code",
   "execution_count": null,
   "id": "b2fff1e8",
   "metadata": {},
   "outputs": [],
   "source": [
    "# entities\n",
    "I = {\"s\", \"p\"}\n",
    "\n",
    "# parameters\n",
    "t_i = {\"s\": 1.5, \"p\": 2.}\n",
    "P_i = {\"s\": 125., \"p\": 200.}\n",
    "T = 40.\n",
    "\n",
    "# decision variables\n",
    "y_i = {}\n",
    "y_i[\"s\"] = solver.NumVar(lb=10., ub=inf, name=\"y_s\")\n",
    "y_i[\"p\"] = solver.NumVar(lb=0., ub=inf, name=\"y_p\")\n",
    "\n",
    "# objective value\n",
    "solver.Maximize(solver.Sum(P_i[i] * y_i[i] for i in I))\n",
    "\n",
    "# constraints\n",
    "_ = solver.Add(solver.Sum(t_i[i] * y_i[i] for i in I) <= T)"
   ]
  },
  {
   "cell_type": "code",
   "execution_count": null,
   "id": "349b04fe",
   "metadata": {},
   "outputs": [],
   "source": [
    "# run solver\n",
    "solver.Solve()"
   ]
  },
  {
   "cell_type": "code",
   "execution_count": null,
   "id": "eba8fde1",
   "metadata": {},
   "outputs": [],
   "source": [
    "obj = solver.Objective().Value()\n",
    "\n",
    "y_s = y_i[\"s\"].SolutionValue()\n",
    "y_p = y_i[\"p\"].SolutionValue()\n",
    "\n",
    "print(f\"Optimal solution makes {\n",
    "      y_s} of standard product and {y_p} of premium product.\")\n",
    "print(f\"Optimal objective value = £{obj}\")"
   ]
  },
  {
   "cell_type": "markdown",
   "id": "33caa37d",
   "metadata": {},
   "source": [
    "### Lecture example: MILP"
   ]
  },
  {
   "cell_type": "code",
   "execution_count": null,
   "id": "fbd9d491",
   "metadata": {},
   "outputs": [],
   "source": [
    "solver = pywraplp.Solver(name=\"factory-milp\", problem_type=pywraplp.Solver.CBC_MIXED_INTEGER_PROGRAMMING)\n",
    "inf = solver.infinity()"
   ]
  },
  {
   "cell_type": "code",
   "execution_count": null,
   "id": "f7fc1b8e",
   "metadata": {},
   "outputs": [],
   "source": [
    "# entities\n",
    "I = {...}\n",
    "\n",
    "# parameters\n",
    "t_i = {...}\n",
    "P_i = {...}\n",
    "T = ...\n",
    "\n",
    "# decision variables\n",
    "y_i = {}\n",
    "y_i[\"s\"] = solver.IntVar(...)\n",
    "y_i[\"p\"] = solver.IntVar(...)\n",
    "\n",
    "# objective value\n",
    "solver.Maximize(...)\n",
    "\n",
    "# constraints\n",
    "_ = solver.Add(...)"
   ]
  },
  {
   "cell_type": "code",
   "execution_count": null,
   "id": "40062c64",
   "metadata": {},
   "outputs": [],
   "source": [
    "# run solver\n",
    "solver.Solve()"
   ]
  },
  {
   "cell_type": "code",
   "execution_count": null,
   "id": "908f8590",
   "metadata": {},
   "outputs": [],
   "source": [
    "obj = solver.Objective().Value()\n",
    "\n",
    "y_s = y_i[\"s\"].SolutionValue()\n",
    "y_p = y_i[\"p\"].SolutionValue()\n",
    "\n",
    "print(f\"Optimal solution makes {y_s} of standard product and {y_p} of premium product.\")\n",
    "print(f\"Optimal objective value = £{obj}\")"
   ]
  },
  {
   "cell_type": "markdown",
   "id": "a9410854",
   "metadata": {},
   "source": [
    "### Lecture example: MILP with startup costs"
   ]
  },
  {
   "cell_type": "code",
   "execution_count": null,
   "id": "03524e0e",
   "metadata": {},
   "outputs": [],
   "source": [
    "solver = pywraplp.Solver(name=\"factory-startup\", problem_type=pywraplp.Solver.CBC_MIXED_INTEGER_PROGRAMMING)\n",
    "inf = solver.infinity()"
   ]
  },
  {
   "cell_type": "code",
   "execution_count": null,
   "id": "2a6aeed1",
   "metadata": {},
   "outputs": [],
   "source": [
    "# entitities\n",
    "I = {...}\n",
    "\n",
    "# parameters\n",
    "t_i = {...}\n",
    "P_i = {...}\n",
    "T = ...\n",
    "C_e = ...\n",
    "M = 1000 # big-M\n",
    "\n",
    "# decision variables\n",
    "y_i = {}\n",
    "y_i[\"s\"] = solver.IntVar(...)\n",
    "y_i[\"p\"] = solver.IntVar(...)\n",
    "y_i[\"e\"] = solver.IntVar(...)\n",
    "delta = solver.IntVar(...)\n",
    "\n",
    "# objective value\n",
    "solver.Maximize(...)\n",
    "\n",
    "# constraints\n",
    "_ = solver.Add(...)\n",
    "_ = solver.Add(...)"
   ]
  },
  {
   "cell_type": "code",
   "execution_count": null,
   "id": "323f715a",
   "metadata": {},
   "outputs": [],
   "source": [
    "# run solver\n",
    "solver.Solve()"
   ]
  },
  {
   "cell_type": "code",
   "execution_count": null,
   "id": "e1d3cc0d",
   "metadata": {},
   "outputs": [],
   "source": [
    "obj = solver.Objective().Value()\n",
    "\n",
    "y_s = y_i[\"s\"].SolutionValue()\n",
    "y_p = y_i[\"p\"].SolutionValue()\n",
    "y_e = y_i[\"e\"].SolutionValue()\n",
    "\n",
    "print(f\"Optimal solution makes {y_s} of standard product, {y_p} of premium product\"\n",
    "      f\" and {y_e} of extra premium product.\")\n",
    "print(f\"Optimal objective value = £{obj}\")"
   ]
  }
 ],
 "metadata": {
  "kernelspec": {
   "display_name": "Python 3",
   "language": "python",
   "name": "python3"
  },
  "language_info": {
   "codemirror_mode": {
    "name": "ipython",
    "version": 3
   },
   "file_extension": ".py",
   "mimetype": "text/x-python",
   "name": "python",
   "nbconvert_exporter": "python",
   "pygments_lexer": "ipython3",
   "version": "3.8.8"
  }
 },
 "nbformat": 4,
 "nbformat_minor": 5
}
