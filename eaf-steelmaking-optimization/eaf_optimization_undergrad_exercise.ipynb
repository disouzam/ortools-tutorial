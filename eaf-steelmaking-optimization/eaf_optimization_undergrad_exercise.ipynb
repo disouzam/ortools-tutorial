{
 "cells": [
  {
   "cell_type": "markdown",
   "metadata": {},
   "source": [
    "# Problem Statement"
   ]
  },
  {
   "cell_type": "markdown",
   "metadata": {},
   "source": [
    "Charging of electric arc furnace (EAF) can be made using two or three buckets. To operate using two buckets it is necessary to use high density scraps that are also more expensive. Charging can also be made with three buckets, if low density scraps (low cost) were used. The advantage of two bucket charging is the lower energy consumption (circa of 10 kWh/t) due to smaller heat losses during removal of furnace lid and to the shorter tap-to-tap time, since each bucket takes around 5 minutes to be discharged into furnace.\n",
    "\n",
    "This exercise (originally an undergrad activity in Metallurgical Engineering course of UFMG, 2012) looks at the economical feasibility of each option (two or three bucket charging)."
   ]
  },
  {
   "cell_type": "markdown",
   "metadata": {},
   "source": [
    "## Density and cost of different scrap types"
   ]
  },
  {
   "cell_type": "code",
   "execution_count": null,
   "metadata": {},
   "outputs": [],
   "source": [
    "table1 = [\n",
    "    {\n",
    "        \"scrap_class\": \"No. 1 Heavy\",\n",
    "        \"type\": \"Heavy Weight scrap\",\n",
    "        \"density\": 0.85,\n",
    "        \"cost_per_ton\": 320.\n",
    "    },\n",
    "    {\n",
    "        \"scrap_class\": \"No. 2 Heavy\",\n",
    "        \"type\": \"Heavy Weight scrap\",\n",
    "        \"density\": 0.75,\n",
    "        \"cost_per_ton\": 280.\n",
    "    },\n",
    "    {\n",
    "        \"scrap_class\": \"Internal Low Alloy\",\n",
    "        \"type\": \"Heavy Weight scrap\",\n",
    "        \"density\": 3.,\n",
    "        \"cost_per_ton\": 480.\n",
    "    },\n",
    "    {\n",
    "        \"scrap_class\": \"Plate & Structural\",\n",
    "        \"type\": \"Heavy Weight scrap\",\n",
    "        \"density\": 2.,\n",
    "        \"cost_per_ton\": 580.\n",
    "    },\n",
    "    {\n",
    "        \"scrap_class\": \"Internal Stainless Steel\",\n",
    "        \"type\": \"Heavy Weight scrap\",\n",
    "        \"density\": 3.,\n",
    "        \"cost_per_ton\": 660.\n",
    "    },\n",
    "    {\n",
    "        \"scrap_class\": \"No. 1 Bundles\",\n",
    "        \"type\": \"Medium Weight scrap\",\n",
    "        \"density\": 1.2,\n",
    "        \"cost_per_ton\": 360.\n",
    "    },\n",
    "    {\n",
    "        \"scrap_class\": \"No. 2 Bundles\",\n",
    "        \"type\": \"Heavy Weight scrap\",\n",
    "        \"density\": 1.1,\n",
    "        \"cost_per_ton\": 340.\n",
    "    },\n",
    "    {\n",
    "        \"scrap_class\": \"DRI\",\n",
    "        \"type\": \"Heavy Weight scrap\",\n",
    "        \"density\": 1.65,\n",
    "        \"cost_per_ton\": 440.\n",
    "    },\n",
    "    {\n",
    "        \"scrap_class\": \"No. 1 Busheling\",\n",
    "        \"type\": \"Light scrap\",\n",
    "        \"density\": 1.50,\n",
    "        \"cost_per_ton\": 420.\n",
    "    },\n",
    "    {\n",
    "        \"scrap_class\": \"Shredded\",\n",
    "        \"type\": \"Light scrap\",\n",
    "        \"density\": 1.50,\n",
    "        \"cost_per_ton\": 400.\n",
    "    }\n",
    "]"
   ]
  },
  {
   "cell_type": "code",
   "execution_count": null,
   "metadata": {},
   "outputs": [],
   "source": [
    "import pandas as pd\n",
    "\n",
    "df = pd.DataFrame.from_records(table1)\n",
    "df"
   ]
  },
  {
   "cell_type": "markdown",
   "metadata": {},
   "source": [
    "The goal is to produce a heat of 165 tons of liquid steel. However, due to alloy additions during the steel processing, charge must be 160t, maximum, using at most 3 scrap buckets. The volumetric capacity of EAF is 72 m³ (furnace dimensions: 3 m height, 5.5 diameter). But, after 1st bucket is completely melted, this volume is smaller due to volume occupied by liquid steel from previous chargings (liquid steel density = 7500 kg/m³). Other restrictions are:\n",
    " \n",
    "-  Maximum amount of 30% (w/w) of heavy weight in each bucket to avoid electrode breakages\n",
    "-  There is a need of a thin layer of light scrap on charge surface on scrap bucket to speed up electrode diving in the charge."
   ]
  },
  {
   "cell_type": "markdown",
   "metadata": {},
   "source": [
    "The goal is: \n",
    "1. Calculate the required weight in each bucket that results in the lowest cost for 3 buckets charging\n",
    "2. Repeate the procedure for the scenario with 2 bucket charging.\n",
    "3. Compare the cost of metallic charges between the two options (2 vs 3 buckets)"
   ]
  },
  {
   "cell_type": "markdown",
   "metadata": {},
   "source": [
    "## Model"
   ]
  },
  {
   "cell_type": "code",
   "execution_count": null,
   "metadata": {},
   "outputs": [],
   "source": [
    "# Solver instantiation\n",
    "from ortools.linear_solver import pywraplp\n",
    "\n",
    "solver = pywraplp.Solver(\n",
    "    name=\"two-buckets-problem\", problem_type=pywraplp.Solver.CBC_MIXED_INTEGER_PROGRAMMING)\n",
    "inf = solver.infinity()"
   ]
  },
  {
   "cell_type": "code",
   "execution_count": null,
   "metadata": {},
   "outputs": [],
   "source": [
    "# entities\n",
    "buckets = [\"first_bucket\", \"second_bucket\"]\n",
    "scrap_classes = list(map(lambda s: s[\"scrap_class\"], table1))\n",
    "\n",
    "# parameters\n",
    "densities = {s[\"scrap_class\"]: s[\"density\"] for s in table1}\n",
    "costs_per_ton = {s[\"scrap_class\"]: s[\"cost_per_ton\"] for s in table1}\n",
    "bucket_volume = 72.\n",
    "\n",
    "# decision variables\n",
    "m_bs = {}\n",
    "for bucket in buckets:\n",
    "    m_bs[bucket] = {}\n",
    "    for scrap_class in scrap_classes:\n",
    "        scrap_class_wo_space = scrap_class.replace(' ', '')\n",
    "        m_bs[bucket][scrap_class] = solver.NumVar(\n",
    "            lb=0., ub=inf, name=f\"m_{bucket}_{scrap_class_wo_space}\")\n",
    "\n",
    "print(\"Number of variables =\", solver.NumVariables())\n",
    "\n",
    "# objective value\n",
    "obj_expr = []\n",
    "for bucket in buckets:\n",
    "    for scrap_class in scrap_classes:\n",
    "        obj_expr.append(m_bs[bucket][scrap_class] * costs_per_ton[scrap_class])\n",
    "\n",
    "solver.Minimize(solver.Sum(obj_expr))\n",
    "\n",
    "# constraints\n",
    "\n",
    "# Total scrap mass must be 160 ton\n",
    "total_scrap_mass = []\n",
    "for bucket in buckets:\n",
    "    for scrap_class in scrap_classes:\n",
    "        total_scrap_mass.append(m_bs[bucket][scrap_class])\n",
    "\n",
    "_ = solver.Add(solver.Sum(total_scrap_mass) == 160)\n",
    "\n",
    "# Volume of scrap can't exceed bucket_volume\n",
    "scrap_volume_per_bucket = {}\n",
    "for bucket in buckets:\n",
    "    scrap_volume_per_bucket[bucket] = []\n",
    "    for scrap_class in scrap_classes:\n",
    "        scrap_volume_per_bucket[bucket].append(\n",
    "            m_bs[bucket][scrap_class]/densities[scrap_class])\n",
    "    _ = solver.Add(solver.Sum(\n",
    "        scrap_volume_per_bucket[bucket]) <= bucket_volume)\n",
    "\n",
    "# Remaining volume in furnace must be higher than the volume charged in the next bucket\n",
    "remaining_volume_in_furnace = []\n",
    "for index, bucket in enumerate(buckets):\n",
    "    remaining_volume_in_furnace.append([])\n",
    "    if index == 0:\n",
    "        previous_remaining_volume = bucket_volume\n",
    "        remaining_volume_in_furnace[index].append(previous_remaining_volume)\n",
    "    else:\n",
    "        previous_remaining_volume = remaining_volume_in_furnace[index - 1]\n",
    "        for item in previous_remaining_volume:\n",
    "            remaining_volume_in_furnace[index].append(item)\n",
    "\n",
    "    for scrap_class in scrap_classes:\n",
    "        remaining_volume_in_furnace[index].append(\n",
    "            -(1./7.5)*m_bs[bucket][scrap_class])\n",
    "\n",
    "for index, bucket in enumerate(buckets):\n",
    "    if index > 0:\n",
    "        _ = solver.Add(solver.Sum(remaining_volume_in_furnace[index]) >= solver.Sum(\n",
    "            scrap_volume_per_bucket[bucket]))\n",
    "\n",
    "# Maximum of 30% of heavy weight scrap in each bucket\n",
    "heavy_weight_scrap_per_bucket = {}\n",
    "total_scrap_per_bucket = {}\n",
    "for bucket in buckets:\n",
    "    heavy_weight_scrap_per_bucket[bucket] = []\n",
    "    total_scrap_per_bucket[bucket] = []\n",
    "    for scrap_class in scrap_classes:\n",
    "        scrap_details = [\n",
    "            s for s in table1 if s[\"scrap_class\"] == scrap_class][0]\n",
    "        scrap_type = scrap_details[\"type\"]\n",
    "        if scrap_type == \"Heavy Weight scrap\":\n",
    "            heavy_weight_scrap_per_bucket[bucket].append(\n",
    "                m_bs[bucket][scrap_class])\n",
    "        total_scrap_per_bucket[bucket].append(\n",
    "            m_bs[bucket][scrap_class])\n",
    "    _ = solver.Add(solver.Sum(\n",
    "        heavy_weight_scrap_per_bucket[bucket]) <= 0.3 * solver.Sum(total_scrap_per_bucket[bucket]))"
   ]
  },
  {
   "cell_type": "code",
   "execution_count": null,
   "metadata": {},
   "outputs": [],
   "source": [
    "# run solver\n",
    "print(solver.Solve())"
   ]
  },
  {
   "cell_type": "code",
   "execution_count": null,
   "metadata": {},
   "outputs": [],
   "source": [
    "# Scrap distribution in each bucket\n",
    "results = {}\n",
    "for bucket in buckets:\n",
    "    results[bucket] = {}\n",
    "    for scrap_class in scrap_classes:\n",
    "        results[bucket][scrap_class] = round(\n",
    "            m_bs[bucket][scrap_class].SolutionValue(), 2)\n",
    "\n",
    "results_df = pd.DataFrame.from_dict(results)\n",
    "results_df"
   ]
  },
  {
   "cell_type": "code",
   "execution_count": null,
   "metadata": {},
   "outputs": [],
   "source": [
    "# Charging cost\n",
    "obj = solver.Objective().Value()\n",
    "print(f\"\\n\\nCharging cost: R$ {obj:.2f}\")"
   ]
  }
 ],
 "metadata": {
  "kernelspec": {
   "display_name": "Python 3 (ipykernel)",
   "language": "python",
   "name": "python3"
  },
  "language_info": {
   "codemirror_mode": {
    "name": "ipython",
    "version": 3
   },
   "file_extension": ".py",
   "mimetype": "text/x-python",
   "name": "python",
   "nbconvert_exporter": "python",
   "pygments_lexer": "ipython3",
   "version": "3.12.1"
  }
 },
 "nbformat": 4,
 "nbformat_minor": 4
}
